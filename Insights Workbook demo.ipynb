{
 "cells": [
  {
   "cell_type": "markdown",
   "metadata": {},
   "source": [
    "## Call ArcGIS API for Python and publish CSV"
   ]
  },
  {
   "cell_type": "code",
   "execution_count": null,
   "metadata": {},
   "outputs": [],
   "source": [
    "from arcgis.gis import GIS"
   ]
  },
  {
   "cell_type": "code",
   "execution_count": null,
   "metadata": {},
   "outputs": [],
   "source": [
    "gis = GIS(\"https://www.arcgis.com\", \"my_username\")"
   ]
  },
  {
   "cell_type": "code",
   "execution_count": null,
   "metadata": {},
   "outputs": [],
   "source": [
    "csv_file = \"Air Quality Monitors.csv\"\n",
    "csv_item = gis.content.add({}, csv_file)\n",
    "csv_item"
   ]
  },
  {
   "cell_type": "code",
   "execution_count": null,
   "metadata": {},
   "outputs": [],
   "source": [
    "csv_lyr = csv_item.publish()\n",
    "csv_lyr"
   ]
  },
  {
   "cell_type": "code",
   "execution_count": null,
   "metadata": {},
   "outputs": [],
   "source": [
    "map = gis.map(\"Air Quality Monitors\")\n",
    "display(map)"
   ]
  },
  {
   "cell_type": "code",
   "execution_count": null,
   "metadata": {},
   "outputs": [],
   "source": [
    "map.add_layer(csv_lyr)\n",
    "map.extent = csv_lyr.extent"
   ]
  },
  {
   "cell_type": "markdown",
   "metadata": {},
   "source": [
    "## Update CSV"
   ]
  },
  {
   "cell_type": "code",
   "execution_count": null,
   "metadata": {},
   "outputs": [],
   "source": [
    "from arcgis.features import FeatureLayerCollection\n",
    "csv_lyr = gis.content.search('title:\"Air Quality Monitors\" AND owner:\"my_username\"', 'Feature Layer')[0]\n",
    "flayer_collection = FeatureLayerCollection.fromitem(csv_lyr)\n",
    "flayer_collection.manager.overwrite(r'\\path\\to\\updated_data\\Air Quality Monitors.csv')"
   ]
  },
  {
   "cell_type": "code",
   "execution_count": null,
   "metadata": {},
   "outputs": [],
   "source": [
    "map.remove_layers()\n",
    "map.add_layer(csv_lyr)"
   ]
  },
  {
   "cell_type": "markdown",
   "metadata": {},
   "source": [
    "## Creating an Insights Workbook using REST"
   ]
  },
  {
   "cell_type": "code",
   "execution_count": null,
   "metadata": {},
   "outputs": [],
   "source": [
    "import json\n",
    "import random\n",
    "# Workbook title\n",
    "title = \"Script-Created Workbook\"\n",
    "# Workspace ID (8 random hex digits)\n",
    "workbook_id = '%08x' % random.randrange(16**8)\n",
    "# Hosted service URL differs between Portal and AGOL\n",
    "insights_service_url = gis._url.lower() + \\\n",
    "    '/arcgis/rest/services/Hosted/'\n",
    "if gis._url.find('arcgis.com') >= 0:\n",
    "    insights_service_url = 'https://insightsservices.arcgis.com/' + gis._portal._properties['id'] + '/arcgis/rest/services/'\n",
    "workspace_url = insights_service_url + workbook_id + \"/WorkspaceServer\"\n",
    "\n",
    "# Path for REST API to create new Workspace Service (ArcGIS Insights internal data storage)\n",
    "path = gis._portal.url + '/sharing/rest/content/users/' + \\\n",
    "    gis.users.me.username + '/createService'\n",
    "post_data = {'f': 'json',\n",
    "             'createParameters': '{\"name\": \"' + workbook_id + '\"}',\n",
    "             'targetType': 'workspaceService'}\n",
    "# The first call creates the workspace, but the Workbook is not\n",
    "# functional until after the second POST below\n",
    "resp = gis._portal.con.post(path, post_data)\n",
    "# Depending on whether it's on Portal or AGOL, it will use a\n",
    "# different key for ID.\n",
    "if gis._url.find('arcgis.com') < 0:\n",
    "    workspace_id = resp['itemId']\n",
    "else:\n",
    "    workspace_id = resp['serviceItemId']\n",
    "\n",
    "item_props = {\n",
    "    \"f\": \"json\",\n",
    "    \"id\": workspace_id,\n",
    "    \"type\": \"Insights Workbook\",\n",
    "    \"title\": title}\n",
    "# For some reason this is not needed for Portal, but it is for AGOL\n",
    "if gis._url.find('arcgis.com') >= 0:\n",
    "    item_props[\"url\"] = workspace_url\n",
    "\n",
    "# Full set of default JSON data properties for an ArcGIS Insights\n",
    "# workbook item.\n",
    "props = {\n",
    "    \"format\": 9,\n",
    "    \"title\": title,\n",
    "    \"pages\": [{\n",
    "        \"title\": \"Page 1\",\n",
    "        \"model\": {\n",
    "            \"items\": []\n",
    "        },\n",
    "        \"cards\": [],\n",
    "        \"layout\": [],\n",
    "        \"contents\": []\n",
    "    }],\n",
    "    \"activePage\": 0,\n",
    "    \"workspace\": {\n",
    "        \"datasets\": {}\n",
    "    },\n",
    "    \"_ssl\": True,\n",
    "    \"created\": 0,\n",
    "    \"modified\": 0,\n",
    "    \"guid\": None,\n",
    "    \"type\": \"Insights Workbook\",\n",
    "    \"typeKeywords\": [\"Application\", \"ArcGIS\",\n",
    "                     \"Insights Workbook\", \"Hosted Service\"],\n",
    "    \"description\": None,\n",
    "    \"tags\": [],\n",
    "    \"snippet\": None,\n",
    "    \"thumbnail\": None,\n",
    "    \"documentation\": None,\n",
    "    \"extent\": [],\n",
    "    \"categories\": [],\n",
    "    \"spatialReference\": None,\n",
    "    \"accessInformation\": None,\n",
    "    \"licenseInfo\": None,\n",
    "    \"culture\": \"english (united states)\",\n",
    "    \"properties\": None,\n",
    "    \"proxyFilter\": None,\n",
    "    \"access\": \"private\",\n",
    "    \"size\": 0,\n",
    "    \"appCategories\": [],\n",
    "    \"industries\": [],\n",
    "    \"languages\": [],\n",
    "    \"largeThumbnail\": None,\n",
    "    \"banner\": None,\n",
    "    \"screenshots\": [],\n",
    "    \"listed\": False,\n",
    "    \"ownerFolder\": None,\n",
    "    \"protected\": False,\n",
    "    \"commentsEnabled\": True,\n",
    "    \"numComments\": 0,\n",
    "    \"numRatings\": 0,\n",
    "    \"avgRating\": 0,\n",
    "    \"numViews\": 3,\n",
    "    \"itemControl\": \"admin\",\n",
    "    \"scoreCompleteness\": 0,\n",
    "    \"groupDesignations\": None\n",
    "}\n",
    "# After the first call sets up the workspace, this second call sets\n",
    "# up the actual Workbook with all the data props, title, etc.\n",
    "gis._portal.update_item(workspace_id, item_props, json.dumps(props))"
   ]
  },
  {
   "cell_type": "markdown",
   "metadata": {},
   "source": [
    "## Adding a feature layer"
   ]
  },
  {
   "cell_type": "code",
   "execution_count": null,
   "metadata": {},
   "outputs": [],
   "source": [
    "lyr = gis.content.search('title:\"Air Quality Monitors\" AND owner:\"my_username\"', 'Feature Layer')[0]\n",
    "lyr"
   ]
  },
  {
   "cell_type": "code",
   "execution_count": null,
   "metadata": {},
   "outputs": [],
   "source": [
    " # Random 7-digit hex suffix for dataset name\n",
    "dataset_name = lyr.title + '_%07x' % random.randrange(16**7)\n",
    "post_data = {'f': 'json',\n",
    "             'tools': '[{\"name\":\"add-data\",\"params\":{\"data\":{' +\n",
    "                      '\"type\":\"feature-layer\",' +\n",
    "                      '\"url\":\"' + lyr.url + '/0'  +\n",
    "                      '\"}},\"outDataset\":\"' + dataset_name + '\"}]',\n",
    "             'outDatasets': '[\"' + dataset_name + '\"]'}\n",
    "# Execute the add-data operation within ArcGIS Insights. Note: data\n",
    "# is not automatically saved in the Workbook. Must manually call\n",
    "# save in order to make it permanent.\n",
    "resp = gis._portal.con.post(workspace_url + '/execute', post_data)\n",
    "\n",
    "# In addition to calling execute to create the dataset, it must also\n",
    "# be placed in the Workbook Item properties in several places:\n",
    "props['pages'][0]['model']['items'].append({\n",
    "    'operation': 'add-data',\n",
    "    'params': {\n",
    "        'data': {\n",
    "            'type': 'feature-layer',\n",
    "            'url': lyr.url + '/0'\n",
    "        }\n",
    "    },\n",
    "    'outDataset': dataset_name\n",
    "})\n",
    "props['pages'][0]['contents'].append({\n",
    "    'dataset': dataset_name\n",
    "})\n",
    "# Get extent\n",
    "my_extent = json.loads(lyr.layers[0].properties.extent.__repr__())\n",
    "# resp[dataset_name] refers to internal data ID\n",
    "props['workspace']['datasets'][dataset_name] = {\n",
    "    'data': resp[dataset_name],\n",
    "    'owner': lyr.id,\n",
    "    'fields': {\n",
    "        'shape': {\n",
    "            'alias': 'Location'\n",
    "        }\n",
    "    },\n",
    "    'extent': my_extent,\n",
    "    'origin': True\n",
    "}"
   ]
  },
  {
   "cell_type": "markdown",
   "metadata": {},
   "source": [
    "## Save workbook"
   ]
  },
  {
   "cell_type": "code",
   "execution_count": null,
   "metadata": {},
   "outputs": [],
   "source": [
    "# A few properties have to be manually set at save (doesn't work to\n",
    "# just set them on initial Workbook creation).\n",
    "props[\"id\"] = workspace_id\n",
    "props[\"owner\"] = gis.users.me.username\n",
    "props[\"name\"] = workbook_id\n",
    "props[\"url\"] = workspace_url\n",
    "post_data = {\n",
    "    'f': 'json',\n",
    "    'title': title,\n",
    "    'text': json.dumps(props)}\n",
    "# Basically just a standard ArcGIS item update with the updated JSON\n",
    "# properties\n",
    "update_url = gis._url.lower() + '/sharing/rest/content/users/' + \\\n",
    "    gis.users.me.username + '/items/' + \\\n",
    "    workspace_id + '/update'\n",
    "gis._portal.con.post(update_url, post_data)"
   ]
  },
  {
   "cell_type": "markdown",
   "metadata": {},
   "source": [
    "## Add map"
   ]
  },
  {
   "cell_type": "code",
   "execution_count": null,
   "metadata": {},
   "outputs": [],
   "source": [
    "# Add map, with layer and extent\n",
    "props['pages'][0]['cards'].append({\n",
    "    'type': 'map',\n",
    "    'title': 'Card 1',\n",
    "    'content': {\n",
    "        'layers': [{'datasetId': dataset_name}],\n",
    "        'extent': my_extent\n",
    "    }\n",
    "})\n",
    "# place map on layout\n",
    "props['pages'][0]['layout'].append({\n",
    "    \"x\": 0,\n",
    "    \"y\": 0,\n",
    "    \"w\": 20,\n",
    "    \"h\": 20\n",
    "})"
   ]
  },
  {
   "cell_type": "code",
   "execution_count": null,
   "metadata": {},
   "outputs": [],
   "source": [
    "# Save again\n",
    "props[\"id\"] = workspace_id\n",
    "props[\"owner\"] = gis.users.me.username\n",
    "props[\"name\"] = workbook_id\n",
    "props[\"url\"] = workspace_url\n",
    "post_data = {\n",
    "    'f': 'json',\n",
    "    'title': title,\n",
    "    'text': json.dumps(props)}\n",
    "update_url = gis._url.lower() + '/sharing/rest/content/users/' + \\\n",
    "    gis.users.me.username + '/items/' + \\\n",
    "    workspace_id + '/update'\n",
    "gis._portal.con.post(update_url, post_data)"
   ]
  },
  {
   "cell_type": "markdown",
   "metadata": {},
   "source": [
    "## Add chart"
   ]
  },
  {
   "cell_type": "code",
   "execution_count": null,
   "metadata": {},
   "outputs": [],
   "source": [
    "in_dataset_base = dataset_name[:dataset_name.find('_')]\n",
    "# Generate new dataset name with 7 random hex digits as suffix\n",
    "out_dataset = in_dataset_base + '_%07x' % random.randrange(16**7)\n",
    "# Perform aggregate operation\n",
    "props['pages'][0]['model']['items'].append({\n",
    "    'operation': 'aggregate',\n",
    "    'params': {\n",
    "        'dataset': dataset_name,\n",
    "        'groupBy': [\"EPARegion\"],\n",
    "        'statistics': [{\n",
    "            'type': \"count\",\n",
    "            'field': \"ObjectId\",\n",
    "            'outField': \"objectid_count\"\n",
    "        }],\n",
    "        'totals': False\n",
    "    },\n",
    "    'outDataset': out_dataset\n",
    "})\n",
    "in_data_id = props['workspace']['datasets'][dataset_name]['data']\n",
    "# Add new dataset to workspace\n",
    "props['workspace']['datasets'][out_dataset] = {\n",
    "    'data': {\n",
    "        'metadata': {\n",
    "            'fields': [\n",
    "                {\n",
    "                    'name': \"EPARegion\",\n",
    "                    'alias': \"EPARegion\",\n",
    "                    'type': \"esriFieldTypeString\",\n",
    "                    'entity': 'e0'\n",
    "                },\n",
    "                {\n",
    "                    'name': \"objectid_count\",\n",
    "                    'alias': \"objectid_count\",\n",
    "                    'type': \"esriFieldTypeInteger\"\n",
    "                }\n",
    "            ],\n",
    "            'entities': [{\n",
    "                'fields': [\n",
    "                    \"EPARegion\",\n",
    "                    \"objectid_count\"\n",
    "                ],\n",
    "                'keyFields': [\"EPARegion\"]\n",
    "            }]\n",
    "        },\n",
    "        'tools': [{\n",
    "            'name': 'aggregate',\n",
    "            'params': {\n",
    "                'dataset': in_data_id,\n",
    "                'groupBy': [\"EPARegion\"],\n",
    "                'statistics': [{\n",
    "                    'type': \"count\",\n",
    "                    'field': \"ObjectId\",\n",
    "                    'outField': \"objectid_count\"\n",
    "                }],\n",
    "                'materialize': False\n",
    "            },\n",
    "            'outDataset': out_dataset\n",
    "        }],\n",
    "        'outDataset': out_dataset\n",
    "    },\n",
    "    'name': out_dataset,\n",
    "    'fields': {\n",
    "        \"objectid_count\": {\n",
    "            'alias': \"Count of ObjectId\"\n",
    "        },\n",
    "        \"EPARegion\": {}\n",
    "    }\n",
    "}"
   ]
  },
  {
   "cell_type": "code",
   "execution_count": null,
   "metadata": {},
   "outputs": [],
   "source": [
    "# Create the chart card\n",
    "props['pages'][0]['cards'].append({\n",
    "    'title': 'Card 2',\n",
    "    'type': 'chart',\n",
    "    'content': {\n",
    "        'layers': [{\n",
    "            'datasetId': out_dataset,\n",
    "            'chartLines': {\n",
    "                'mean': True\n",
    "            },\n",
    "            'colors': {}\n",
    "        }],\n",
    "        'type': 'column'\n",
    "    }\n",
    "})\n",
    "# Place it to the right of any existing cards\n",
    "props['pages'][0]['layout'].append({\n",
    "    \"x\": 21,\n",
    "    \"y\": 0,\n",
    "    \"w\": 20,\n",
    "    \"h\": 20\n",
    "})"
   ]
  },
  {
   "cell_type": "code",
   "execution_count": null,
   "metadata": {},
   "outputs": [],
   "source": [
    "# Save again\n",
    "props[\"id\"] = workspace_id\n",
    "props[\"owner\"] = gis.users.me.username\n",
    "props[\"name\"] = workbook_id\n",
    "props[\"url\"] = workspace_url\n",
    "post_data = {\n",
    "    'f': 'json',\n",
    "    'title': title,\n",
    "    'text': json.dumps(props)}\n",
    "update_url = gis._url.lower() + '/sharing/rest/content/users/' + \\\n",
    "    gis.users.me.username + '/items/' + \\\n",
    "    workspace_id + '/update'\n",
    "gis._portal.con.post(update_url, post_data)"
   ]
  },
  {
   "cell_type": "markdown",
   "metadata": {},
   "source": [
    "# Working with InsightsWorkbook class"
   ]
  },
  {
   "cell_type": "markdown",
   "metadata": {},
   "source": [
    "## Creating new workbook"
   ]
  },
  {
   "cell_type": "code",
   "execution_count": null,
   "metadata": {},
   "outputs": [],
   "source": [
    "from insightsworkbook import InsightsWorkbook\n",
    "workbook = InsightsWorkbook.new(gis, 'InsightsWorkbook() Test')"
   ]
  },
  {
   "cell_type": "markdown",
   "metadata": {},
   "source": [
    "## Open existing workbook"
   ]
  },
  {
   "cell_type": "code",
   "execution_count": null,
   "metadata": {},
   "outputs": [],
   "source": [
    "wb = gis.content.search('InsightsWorkbook', 'Insights Workbook')[0]\n",
    "wb"
   ]
  },
  {
   "cell_type": "code",
   "execution_count": null,
   "metadata": {},
   "outputs": [],
   "source": [
    "workbook = InsightsWorkbook.open(wb)"
   ]
  },
  {
   "cell_type": "markdown",
   "metadata": {},
   "source": [
    "## Add feature layer & save"
   ]
  },
  {
   "cell_type": "code",
   "execution_count": null,
   "metadata": {},
   "outputs": [],
   "source": [
    "lyr = gis.content.search('title:\"Air Quality Monitors\" AND owner:\"my_username\"', 'Feature Layer')[0]\n",
    "new_dataset = workbook.add_feature_layer(lyr)\n",
    "workbook.save()"
   ]
  },
  {
   "cell_type": "markdown",
   "metadata": {},
   "source": [
    "## Add map"
   ]
  },
  {
   "cell_type": "code",
   "execution_count": null,
   "metadata": {},
   "outputs": [],
   "source": [
    "workbook.add_map(new_dataset)\n",
    "workbook.save()"
   ]
  },
  {
   "cell_type": "markdown",
   "metadata": {},
   "source": [
    "## Add charts"
   ]
  },
  {
   "cell_type": "code",
   "execution_count": null,
   "metadata": {},
   "outputs": [],
   "source": [
    "workbook.add_chart('column', new_dataset, 'EPARegion', 'esriFieldTypeString',\n",
    "                   'count', 'ObjectId', 'esriFieldTypeInteger')\n",
    "workbook.add_chart('bar', new_dataset, 'Status', 'esriFieldTypeString',\n",
    "                   'avg', 'Elevation', 'esriFieldTypeDouble')\n",
    "workbook.save()"
   ]
  },
  {
   "cell_type": "markdown",
   "metadata": {},
   "source": [
    "## Update/refresh data"
   ]
  },
  {
   "cell_type": "code",
   "execution_count": null,
   "metadata": {},
   "outputs": [],
   "source": [
    "from arcgis.features import FeatureLayerCollection\n",
    "flayer_collection = FeatureLayerCollection.fromitem(lyr)\n",
    "flayer_collection.manager.overwrite(r'\\path\\to\\Air Quality Monitors.csv')"
   ]
  },
  {
   "cell_type": "code",
   "execution_count": null,
   "metadata": {},
   "outputs": [],
   "source": [
    "workbook.update_dataset(lyr)\n",
    "workbook.save()"
   ]
  }
 ],
 "metadata": {
  "kernelspec": {
   "display_name": "Python 3",
   "language": "python",
   "name": "python3"
  },
  "language_info": {
   "codemirror_mode": {
    "name": "ipython",
    "version": 3
   },
   "file_extension": ".py",
   "mimetype": "text/x-python",
   "name": "python",
   "nbconvert_exporter": "python",
   "pygments_lexer": "ipython3",
   "version": "3.6.6"
  }
 },
 "nbformat": 4,
 "nbformat_minor": 2
}
